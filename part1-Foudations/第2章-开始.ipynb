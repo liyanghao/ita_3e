{
 "cells": [
  {
   "cell_type": "markdown",
   "id": "42c598f8",
   "metadata": {},
   "source": [
    "这一章让你熟悉我们在整本书里将使用的框架来思考算法设计和分析。它是自成体系的，但是也包含若干个引用到第3章和第4章里介绍的材料，也包含若干个求和式，在附录A中展示了如何求解这些求和式。\n",
    "\n"
   ]
  }
 ],
 "metadata": {
  "kernelspec": {
   "display_name": "Python 3 (ipykernel)",
   "language": "python",
   "name": "python3"
  },
  "language_info": {
   "codemirror_mode": {
    "name": "ipython",
    "version": 3
   },
   "file_extension": ".py",
   "mimetype": "text/x-python",
   "name": "python",
   "nbconvert_exporter": "python",
   "pygments_lexer": "ipython3",
   "version": "3.9.6"
  }
 },
 "nbformat": 4,
 "nbformat_minor": 5
}
