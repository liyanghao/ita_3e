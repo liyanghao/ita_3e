{
 "cells": [
  {
   "cell_type": "markdown",
   "id": "6a2c3956",
   "metadata": {},
   "source": [
    "在第2.3.1节里，我们看过归并排序如何充当分而治之范式的一个示例。回忆一下：在分而治之范式里，我们递归求解一个问题，在每层递归应用3个步骤：\n",
    "- 将问题分解为若干子问题，这些子问题是同一问题规模更小的实例；\n",
    "- 通过递归来求解子问题。但是，如果子问题的规模足够小，那么就直接求解它；\n",
    "- 将这些子问题的解合并成原问题的解；"
   ]
  }
 ],
 "metadata": {
  "kernelspec": {
   "display_name": "Python 3 (ipykernel)",
   "language": "python",
   "name": "python3"
  },
  "language_info": {
   "codemirror_mode": {
    "name": "ipython",
    "version": 3
   },
   "file_extension": ".py",
   "mimetype": "text/x-python",
   "name": "python",
   "nbconvert_exporter": "python",
   "pygments_lexer": "ipython3",
   "version": "3.9.0"
  }
 },
 "nbformat": 4,
 "nbformat_minor": 5
}
