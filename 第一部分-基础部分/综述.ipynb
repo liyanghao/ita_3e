{
 "cells": [
  {
   "cell_type": "markdown",
   "id": "8c13a752",
   "metadata": {},
   "source": [
    "这一部分将让你开始思考算法设计和分析。它旨在温和地介绍如何指定算法、在整本书中使用的一些设计策略、以及在算法分析中使用到的许多基本思想。"
   ]
  }
 ],
 "metadata": {
  "kernelspec": {
   "display_name": "Python 3 (ipykernel)",
   "language": "python",
   "name": "python3"
  },
  "language_info": {
   "codemirror_mode": {
    "name": "ipython",
    "version": 3
   },
   "file_extension": ".py",
   "mimetype": "text/x-python",
   "name": "python",
   "nbconvert_exporter": "python",
   "pygments_lexer": "ipython3",
   "version": "3.9.0"
  }
 },
 "nbformat": 4,
 "nbformat_minor": 5
}
