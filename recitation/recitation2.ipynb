{
 "cells": [
  {
   "cell_type": "markdown",
   "id": "585af290",
   "metadata": {},
   "source": [
    "## 序列接口\n",
    "序列以**外在**顺序维护一组项目，其中每个被存储的项在序列中都有**排名**，包括首项和末项。\n",
    "\n",
    "序列是栈和队列的推广，它们支持序列操作的子集。\n",
    "\n",
    "注意：\n",
    "- 通过说**外在的**，我们想表达的意思是：首项之所以是第一个，不是因为这个项是什么，而是因为一些外在的原因把它放在那儿。\n",
    "\n",
    "序列有哪些操作？\n",
    "\n",
    "- 容器操作\n",
    "\n",
    "  build(x)：给定可迭代对象X，从X中的项来构建序列\n",
    "  \n",
    "  len()\n",
    "\n",
    "- 静态操作\n",
    "\n",
    "- 动态操作"
   ]
  },
  {
   "cell_type": "code",
   "execution_count": null,
   "id": "165184bd",
   "metadata": {},
   "outputs": [],
   "source": []
  }
 ],
 "metadata": {
  "kernelspec": {
   "display_name": "Python 3 (ipykernel)",
   "language": "python",
   "name": "python3"
  },
  "language_info": {
   "codemirror_mode": {
    "name": "ipython",
    "version": 3
   },
   "file_extension": ".py",
   "mimetype": "text/x-python",
   "name": "python",
   "nbconvert_exporter": "python",
   "pygments_lexer": "ipython3",
   "version": "3.9.0"
  }
 },
 "nbformat": 4,
 "nbformat_minor": 5
}
