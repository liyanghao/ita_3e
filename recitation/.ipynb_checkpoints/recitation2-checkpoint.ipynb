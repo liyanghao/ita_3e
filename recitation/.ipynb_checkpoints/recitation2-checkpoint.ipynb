{
 "cells": [
  {
   "cell_type": "markdown",
   "id": "fb4b425d",
   "metadata": {},
   "source": [
    "## 序列接口\n",
    "序列以**外在**顺序维护一组项目，其中每个被存储的项在序列中都有**排名**，包括首项和末项。\n",
    "\n",
    "序列是栈和队列的推广，它们支持序列操作的子集。\n",
    "\n",
    "注意：\n",
    "- 通过说**外在的**，我们想表达的意思是：首项之所以是第一个，不是因为这个项是什么，而是因为一些外在的原因把它放在那儿。\n",
    "\n",
    "序列有哪些操作？\n",
    "\n",
    "- 容器操作\n",
    "\n",
    "  `build(x)`：给定可迭代对象X，从X中的项来构建序列\n",
    "  \n",
    "  `len()`：返回已存储的项的个数\n",
    "\n",
    "- 静态操作\n",
    "\n",
    "  `iter_seq()`：按照序列顺序一个接一个地返回被存储的项\n",
    "\n",
    "  `get_at(i)`：返回第i个项\n",
    "  \n",
    "  `set_at(i, x)`：用x来替换第i个项\n",
    "\n",
    "- 动态操作\n",
    "\n",
    "  `insert_at(i, x)`：把x作为第i个项添加到序列中\n",
    "  \n",
    "  `delete_at(i)`：移除并返回第i个项\n",
    "  \n",
    "  `insert_first(x)`：将x作为第一个项添加到列表中\n",
    "  \n",
    "  `deleter_first()`：移除并返回第一个项\n",
    "  \n",
    "  `insert_last(x)`：将x作为最后一项添加到列表中\n",
    "  \n",
    "  `delete_last()`：移除并返回最后一个项\n",
    "  \n",
    "注意：`insert_/delete_`操作会修改在被修改项之后的所有项的排名。"
   ]
  },
  {
   "cell_type": "markdown",
   "id": "4589019d",
   "metadata": {},
   "source": [
    "## 集合接口"
   ]
  }
 ],
 "metadata": {
  "kernelspec": {
   "display_name": "Python 3 (ipykernel)",
   "language": "python",
   "name": "python3"
  },
  "language_info": {
   "codemirror_mode": {
    "name": "ipython",
    "version": 3
   },
   "file_extension": ".py",
   "mimetype": "text/x-python",
   "name": "python",
   "nbconvert_exporter": "python",
   "pygments_lexer": "ipython3",
   "version": "3.9.0"
  }
 },
 "nbformat": 4,
 "nbformat_minor": 5
}
