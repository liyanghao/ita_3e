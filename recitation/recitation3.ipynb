{
 "cells": [
  {
   "cell_type": "markdown",
   "id": "3f89288b",
   "metadata": {},
   "source": [
    "## 动态数组序列\n",
    "数组的动态序列操作需要花费关于数组A长度的线线性时间。\n",
    "\n",
    "是否存在一种方法可将元素添加到数组中，而不用每次添加一个元素时都支付额外的线性移动开销？\n",
    "\n"
   ]
  }
 ],
 "metadata": {
  "kernelspec": {
   "display_name": "Python 3 (ipykernel)",
   "language": "python",
   "name": "python3"
  },
  "language_info": {
   "codemirror_mode": {
    "name": "ipython",
    "version": 3
   },
   "file_extension": ".py",
   "mimetype": "text/x-python",
   "name": "python",
   "nbconvert_exporter": "python",
   "pygments_lexer": "ipython3",
   "version": "3.9.0"
  }
 },
 "nbformat": 4,
 "nbformat_minor": 5
}
